{
 "cells": [
  {
   "cell_type": "code",
   "id": "initial_id",
   "metadata": {
    "collapsed": true,
    "ExecuteTime": {
     "end_time": "2025-07-03T12:19:30.307362Z",
     "start_time": "2025-07-03T12:19:28.899267Z"
    }
   },
   "source": [
    "import pandas as pd\n",
    "import transformers\n",
    "import kagglehub\n",
    "%matplotlib inline\n",
    "import matplotlib.pyplot as plt"
   ],
   "outputs": [
    {
     "name": "stderr",
     "output_type": "stream",
     "text": [
      "/Users/tyrone/gg-clip-vit/.venv/lib/python3.10/site-packages/tqdm/auto.py:21: TqdmWarning: IProgress not found. Please update jupyter and ipywidgets. See https://ipywidgets.readthedocs.io/en/stable/user_install.html\n",
      "  from .autonotebook import tqdm as notebook_tqdm\n"
     ]
    }
   ],
   "execution_count": 1
  },
  {
   "metadata": {
    "ExecuteTime": {
     "end_time": "2025-06-30T12:08:06.819803Z",
     "start_time": "2025-06-30T12:08:05.878710Z"
    }
   },
   "cell_type": "code",
   "source": [
    "c = transformers.CLIPModel.from_pretrained(\"openai/clip-vit-base-patch32\")\n",
    "v = transformers.ViTModel.from_pretrained(\"google/vit-base-patch16-224-in21k\")\n"
   ],
   "id": "2f00033838806bb7",
   "outputs": [],
   "execution_count": 7
  },
  {
   "metadata": {
    "ExecuteTime": {
     "end_time": "2025-07-02T09:35:54.241272Z",
     "start_time": "2025-07-02T09:35:50.561694Z"
    }
   },
   "cell_type": "code",
   "source": [
    "TOKENIZER = transformers.AutoTokenizer.from_pretrained(\n",
    "    \"Qwen/Qwen2.5-VL-3B-Instruct\", trust_remote_code=True\n",
    ")"
   ],
   "id": "750cc8fa45fb316c",
   "outputs": [],
   "execution_count": 2
  },
  {
   "metadata": {
    "ExecuteTime": {
     "end_time": "2025-07-02T09:36:43.258438Z",
     "start_time": "2025-07-02T09:36:43.256177Z"
    }
   },
   "cell_type": "code",
   "source": "TOKENIZER.tokenize(\"hello\", add_special_tokens=True)",
   "id": "ee35e924c1b02879",
   "outputs": [
    {
     "data": {
      "text/plain": [
       "['hello']"
      ]
     },
     "execution_count": 5,
     "metadata": {},
     "output_type": "execute_result"
    }
   ],
   "execution_count": 5
  },
  {
   "metadata": {
    "ExecuteTime": {
     "end_time": "2025-07-02T09:36:51.717618Z",
     "start_time": "2025-07-02T09:36:51.715912Z"
    }
   },
   "cell_type": "code",
   "source": "TOKENIZER.bos_token",
   "id": "604d95819f7b9c50",
   "outputs": [],
   "execution_count": 6
  },
  {
   "metadata": {
    "ExecuteTime": {
     "end_time": "2025-07-02T09:37:00.477990Z",
     "start_time": "2025-07-02T09:37:00.475754Z"
    }
   },
   "cell_type": "code",
   "source": "TOKENIZER.eos_token",
   "id": "b81c48226ed5e9d3",
   "outputs": [
    {
     "data": {
      "text/plain": [
       "'<|im_end|>'"
      ]
     },
     "execution_count": 7,
     "metadata": {},
     "output_type": "execute_result"
    }
   ],
   "execution_count": 7
  },
  {
   "metadata": {
    "ExecuteTime": {
     "end_time": "2025-07-02T09:37:25.480322Z",
     "start_time": "2025-07-02T09:37:25.477512Z"
    }
   },
   "cell_type": "code",
   "source": [
    "ids = TOKENIZER.encode(\"hello world\", add_special_tokens=True)\n",
    "print(ids, TOKENIZER.convert_ids_to_tokens(ids))"
   ],
   "id": "51eb2407cfa73cba",
   "outputs": [
    {
     "name": "stdout",
     "output_type": "stream",
     "text": [
      "[14990, 1879] ['hello', 'Ġworld']\n"
     ]
    }
   ],
   "execution_count": 8
  },
  {
   "metadata": {
    "ExecuteTime": {
     "end_time": "2025-07-02T09:38:39.444013Z",
     "start_time": "2025-07-02T09:38:39.441618Z"
    }
   },
   "cell_type": "code",
   "source": "TOKENIZER",
   "id": "1c67dea68f671f5e",
   "outputs": [
    {
     "data": {
      "text/plain": [
       "Qwen2TokenizerFast(name_or_path='Qwen/Qwen2.5-VL-3B-Instruct', vocab_size=151643, model_max_length=131072, is_fast=True, padding_side='right', truncation_side='right', special_tokens={'eos_token': '<|im_end|>', 'pad_token': '<|endoftext|>', 'additional_special_tokens': ['<|im_start|>', '<|im_end|>', '<|object_ref_start|>', '<|object_ref_end|>', '<|box_start|>', '<|box_end|>', '<|quad_start|>', '<|quad_end|>', '<|vision_start|>', '<|vision_end|>', '<|vision_pad|>', '<|image_pad|>', '<|video_pad|>']}, clean_up_tokenization_spaces=False, added_tokens_decoder={\n",
       "\t151643: AddedToken(\"<|endoftext|>\", rstrip=False, lstrip=False, single_word=False, normalized=False, special=True),\n",
       "\t151644: AddedToken(\"<|im_start|>\", rstrip=False, lstrip=False, single_word=False, normalized=False, special=True),\n",
       "\t151645: AddedToken(\"<|im_end|>\", rstrip=False, lstrip=False, single_word=False, normalized=False, special=True),\n",
       "\t151646: AddedToken(\"<|object_ref_start|>\", rstrip=False, lstrip=False, single_word=False, normalized=False, special=True),\n",
       "\t151647: AddedToken(\"<|object_ref_end|>\", rstrip=False, lstrip=False, single_word=False, normalized=False, special=True),\n",
       "\t151648: AddedToken(\"<|box_start|>\", rstrip=False, lstrip=False, single_word=False, normalized=False, special=True),\n",
       "\t151649: AddedToken(\"<|box_end|>\", rstrip=False, lstrip=False, single_word=False, normalized=False, special=True),\n",
       "\t151650: AddedToken(\"<|quad_start|>\", rstrip=False, lstrip=False, single_word=False, normalized=False, special=True),\n",
       "\t151651: AddedToken(\"<|quad_end|>\", rstrip=False, lstrip=False, single_word=False, normalized=False, special=True),\n",
       "\t151652: AddedToken(\"<|vision_start|>\", rstrip=False, lstrip=False, single_word=False, normalized=False, special=True),\n",
       "\t151653: AddedToken(\"<|vision_end|>\", rstrip=False, lstrip=False, single_word=False, normalized=False, special=True),\n",
       "\t151654: AddedToken(\"<|vision_pad|>\", rstrip=False, lstrip=False, single_word=False, normalized=False, special=True),\n",
       "\t151655: AddedToken(\"<|image_pad|>\", rstrip=False, lstrip=False, single_word=False, normalized=False, special=True),\n",
       "\t151656: AddedToken(\"<|video_pad|>\", rstrip=False, lstrip=False, single_word=False, normalized=False, special=True),\n",
       "\t151657: AddedToken(\"<tool_call>\", rstrip=False, lstrip=False, single_word=False, normalized=False, special=False),\n",
       "\t151658: AddedToken(\"</tool_call>\", rstrip=False, lstrip=False, single_word=False, normalized=False, special=False),\n",
       "\t151659: AddedToken(\"<|fim_prefix|>\", rstrip=False, lstrip=False, single_word=False, normalized=False, special=False),\n",
       "\t151660: AddedToken(\"<|fim_middle|>\", rstrip=False, lstrip=False, single_word=False, normalized=False, special=False),\n",
       "\t151661: AddedToken(\"<|fim_suffix|>\", rstrip=False, lstrip=False, single_word=False, normalized=False, special=False),\n",
       "\t151662: AddedToken(\"<|fim_pad|>\", rstrip=False, lstrip=False, single_word=False, normalized=False, special=False),\n",
       "\t151663: AddedToken(\"<|repo_name|>\", rstrip=False, lstrip=False, single_word=False, normalized=False, special=False),\n",
       "\t151664: AddedToken(\"<|file_sep|>\", rstrip=False, lstrip=False, single_word=False, normalized=False, special=False),\n",
       "}\n",
       ")"
      ]
     },
     "execution_count": 9,
     "metadata": {},
     "output_type": "execute_result"
    }
   ],
   "execution_count": 9
  },
  {
   "metadata": {
    "ExecuteTime": {
     "end_time": "2025-07-03T12:19:39.164194Z",
     "start_time": "2025-07-03T12:19:38.764338Z"
    }
   },
   "cell_type": "code",
   "source": "imagepath = kagglehub.dataset_download(\"adityajn105/flickr30k\")\n",
   "id": "35af4fc4b9e6c3b6",
   "outputs": [],
   "execution_count": 2
  },
  {
   "metadata": {
    "ExecuteTime": {
     "end_time": "2025-07-02T09:46:19.217838Z",
     "start_time": "2025-07-02T09:46:19.106894Z"
    }
   },
   "cell_type": "code",
   "source": "df = pd.read_csv(f\"{imagepath}/captions.txt\")",
   "id": "7ea168937dccce21",
   "outputs": [],
   "execution_count": 15
  },
  {
   "metadata": {
    "ExecuteTime": {
     "end_time": "2025-07-02T09:46:23.003871Z",
     "start_time": "2025-07-02T09:46:22.994837Z"
    }
   },
   "cell_type": "code",
   "source": "df.head()",
   "id": "ce4356f9337cb1b4",
   "outputs": [
    {
     "data": {
      "text/plain": [
       "            image                                            caption\n",
       "0  1000092795.jpg   Two young guys with shaggy hair look at their...\n",
       "1  1000092795.jpg   Two young , White males are outside near many...\n",
       "2  1000092795.jpg   Two men in green shirts are standing in a yard .\n",
       "3  1000092795.jpg       A man in a blue shirt standing in a garden .\n",
       "4  1000092795.jpg            Two friends enjoy time spent together ."
      ],
      "text/html": [
       "<div>\n",
       "<style scoped>\n",
       "    .dataframe tbody tr th:only-of-type {\n",
       "        vertical-align: middle;\n",
       "    }\n",
       "\n",
       "    .dataframe tbody tr th {\n",
       "        vertical-align: top;\n",
       "    }\n",
       "\n",
       "    .dataframe thead th {\n",
       "        text-align: right;\n",
       "    }\n",
       "</style>\n",
       "<table border=\"1\" class=\"dataframe\">\n",
       "  <thead>\n",
       "    <tr style=\"text-align: right;\">\n",
       "      <th></th>\n",
       "      <th>image</th>\n",
       "      <th>caption</th>\n",
       "    </tr>\n",
       "  </thead>\n",
       "  <tbody>\n",
       "    <tr>\n",
       "      <th>0</th>\n",
       "      <td>1000092795.jpg</td>\n",
       "      <td>Two young guys with shaggy hair look at their...</td>\n",
       "    </tr>\n",
       "    <tr>\n",
       "      <th>1</th>\n",
       "      <td>1000092795.jpg</td>\n",
       "      <td>Two young , White males are outside near many...</td>\n",
       "    </tr>\n",
       "    <tr>\n",
       "      <th>2</th>\n",
       "      <td>1000092795.jpg</td>\n",
       "      <td>Two men in green shirts are standing in a yard .</td>\n",
       "    </tr>\n",
       "    <tr>\n",
       "      <th>3</th>\n",
       "      <td>1000092795.jpg</td>\n",
       "      <td>A man in a blue shirt standing in a garden .</td>\n",
       "    </tr>\n",
       "    <tr>\n",
       "      <th>4</th>\n",
       "      <td>1000092795.jpg</td>\n",
       "      <td>Two friends enjoy time spent together .</td>\n",
       "    </tr>\n",
       "  </tbody>\n",
       "</table>\n",
       "</div>"
      ]
     },
     "execution_count": 16,
     "metadata": {},
     "output_type": "execute_result"
    }
   ],
   "execution_count": 16
  },
  {
   "metadata": {
    "ExecuteTime": {
     "end_time": "2025-07-02T09:48:48.906811Z",
     "start_time": "2025-07-02T09:48:48.512451Z"
    }
   },
   "cell_type": "code",
   "source": [
    "# word-level length for each caption\n",
    "lengths = df[\"caption\"].str.split().str.len()\n",
    "\n",
    "plt.figure()                       # one plot, no sub-plots\n",
    "plt.hist(lengths, bins=20)         # 20 buckets is usually enough\n",
    "plt.xlabel(\"Caption length (words)\")\n",
    "plt.ylabel(\"Frequency\")\n",
    "plt.title(\"Flickr30k caption length distribution\")\n",
    "plt.show()"
   ],
   "id": "a6dbcdbf0c2afb9e",
   "outputs": [
    {
     "data": {
      "text/plain": [
       "<Figure size 640x480 with 1 Axes>"
      ],
      "image/png": "[encoded data removed]"
     },
     "metadata": {},
     "output_type": "display_data"
    }
   ],
   "execution_count": 20
  },
  {
   "metadata": {
    "ExecuteTime": {
     "end_time": "2025-07-02T09:49:12.855073Z",
     "start_time": "2025-07-02T09:49:12.847804Z"
    }
   },
   "cell_type": "code",
   "source": "lengths.describe()",
   "id": "be866de80d9d3267",
   "outputs": [
    {
     "data": {
      "text/plain": [
       "count    158914.000000\n",
       "mean         13.389418\n",
       "std           5.421043\n",
       "min           2.000000\n",
       "25%          10.000000\n",
       "50%          12.000000\n",
       "75%          16.000000\n",
       "max          82.000000\n",
       "Name: caption, dtype: float64"
      ]
     },
     "execution_count": 21,
     "metadata": {},
     "output_type": "execute_result"
    }
   ],
   "execution_count": 21
  },
  {
   "metadata": {
    "ExecuteTime": {
     "end_time": "2025-07-02T09:50:00.250339Z",
     "start_time": "2025-07-02T09:50:00.246617Z"
    }
   },
   "cell_type": "code",
   "source": "lengths.quantile(0.99)",
   "id": "8cce96d633818191",
   "outputs": [
    {
     "data": {
      "text/plain": [
       "np.float64(32.0)"
      ]
     },
     "execution_count": 23,
     "metadata": {},
     "output_type": "execute_result"
    }
   ],
   "execution_count": 23
  },
  {
   "metadata": {},
   "cell_type": "code",
   "outputs": [],
   "execution_count": null,
   "source": "",
   "id": "c6912a5a933c8660"
  }
 ],
 "metadata": {
  "kernelspec": {
   "display_name": "Python 3",
   "language": "python",
   "name": "python3"
  },
  "language_info": {
   "codemirror_mode": {
    "name": "ipython",
    "version": 2
   },
   "file_extension": ".py",
   "mimetype": "text/x-python",
   "name": "python",
   "nbconvert_exporter": "python",
   "pygments_lexer": "ipython2",
   "version": "2.7.6"
  }
 },
 "nbformat": 4,
 "nbformat_minor": 5
}
